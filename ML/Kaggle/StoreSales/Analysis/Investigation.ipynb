{
 "cells": [
  {
   "cell_type": "code",
   "execution_count": null,
   "metadata": {},
   "outputs": [],
   "source": []
  },
  {
   "cell_type": "code",
   "execution_count": 19,
   "metadata": {},
   "outputs": [],
   "source": [
    "import modin.pandas as pd\n",
    "import matplotlib.pyplot as plt\n",
    "import plotly.graph_objs as go\n",
    "\n",
    "import plotly as pl\n",
    "\n"
   ]
  },
  {
   "cell_type": "code",
   "execution_count": 7,
   "metadata": {},
   "outputs": [
    {
     "name": "stderr",
     "output_type": "stream",
     "text": [
      "UserWarning: Port 8787 is already in use.\n",
      "Perhaps you already have a cluster running?\n",
      "Hosting the HTTP server on port 45941 instead\n"
     ]
    }
   ],
   "source": [
    "train_df = pd.read_parquet('/home/alex/Projects/DataSci/ML/Kaggle/StoreSales/Datalake/train.parquet')\n",
    "transactions_df = pd.read_parquet('/home/alex/Projects/DataSci/ML/Kaggle/StoreSales/Datalake/transactions.parquet')\n",
    "stores_df = pd.read_parquet('/home/alex/Projects/DataSci/ML/Kaggle/StoreSales/Datalake/stores.parquet')\n",
    "holidays_df = pd.read_parquet('/home/alex/Projects/DataSci/ML/Kaggle/StoreSales/Datalake/holidays_events.parquet')\n",
    "oil_df = pd.read_parquet('/home/alex/Projects/DataSci/ML/Kaggle/StoreSales/Datalake/oil.parquet')\n"
   ]
  },
  {
   "cell_type": "code",
   "execution_count": 8,
   "metadata": {},
   "outputs": [
    {
     "name": "stdout",
     "output_type": "stream",
     "text": [
      "2013-01-01\n",
      "2017-08-15\n"
     ]
    }
   ],
   "source": [
    "print(train_df['date'].min())\n",
    "print(train_df['date'].max())"
   ]
  },
  {
   "cell_type": "code",
   "execution_count": 9,
   "metadata": {},
   "outputs": [
    {
     "data": {
      "text/html": [
       "<div>\n",
       "<style scoped>\n",
       "    .dataframe tbody tr th:only-of-type {\n",
       "        vertical-align: middle;\n",
       "    }\n",
       "\n",
       "    .dataframe tbody tr th {\n",
       "        vertical-align: top;\n",
       "    }\n",
       "\n",
       "    .dataframe thead th {\n",
       "        text-align: right;\n",
       "    }\n",
       "</style>\n",
       "<table border=\"1\" class=\"dataframe\">\n",
       "  <thead>\n",
       "    <tr style=\"text-align: right;\">\n",
       "      <th></th>\n",
       "      <th>id</th>\n",
       "      <th>date</th>\n",
       "      <th>store_nbr</th>\n",
       "      <th>family</th>\n",
       "      <th>sales</th>\n",
       "      <th>onpromotion</th>\n",
       "    </tr>\n",
       "  </thead>\n",
       "  <tbody>\n",
       "    <tr>\n",
       "      <th>2163723</th>\n",
       "      <td>2163723</td>\n",
       "      <td>2016-05-02</td>\n",
       "      <td>2</td>\n",
       "      <td>GROCERY I</td>\n",
       "      <td>124717.000</td>\n",
       "      <td>59</td>\n",
       "    </tr>\n",
       "    <tr>\n",
       "      <th>2445984</th>\n",
       "      <td>2445984</td>\n",
       "      <td>2016-10-07</td>\n",
       "      <td>39</td>\n",
       "      <td>MEATS</td>\n",
       "      <td>89576.360</td>\n",
       "      <td>0</td>\n",
       "    </tr>\n",
       "    <tr>\n",
       "      <th>2144154</th>\n",
       "      <td>2144154</td>\n",
       "      <td>2016-04-21</td>\n",
       "      <td>20</td>\n",
       "      <td>GROCERY I</td>\n",
       "      <td>87438.516</td>\n",
       "      <td>53</td>\n",
       "    </tr>\n",
       "    <tr>\n",
       "      <th>2139699</th>\n",
       "      <td>2139699</td>\n",
       "      <td>2016-04-18</td>\n",
       "      <td>45</td>\n",
       "      <td>GROCERY I</td>\n",
       "      <td>76090.000</td>\n",
       "      <td>38</td>\n",
       "    </tr>\n",
       "    <tr>\n",
       "      <th>2153031</th>\n",
       "      <td>2153031</td>\n",
       "      <td>2016-04-26</td>\n",
       "      <td>2</td>\n",
       "      <td>GROCERY I</td>\n",
       "      <td>63434.000</td>\n",
       "      <td>30</td>\n",
       "    </tr>\n",
       "    <tr>\n",
       "      <th>2145045</th>\n",
       "      <td>2145045</td>\n",
       "      <td>2016-04-21</td>\n",
       "      <td>45</td>\n",
       "      <td>GROCERY I</td>\n",
       "      <td>53874.000</td>\n",
       "      <td>44</td>\n",
       "    </tr>\n",
       "    <tr>\n",
       "      <th>562596</th>\n",
       "      <td>562596</td>\n",
       "      <td>2013-11-12</td>\n",
       "      <td>44</td>\n",
       "      <td>GROCERY I</td>\n",
       "      <td>46271.000</td>\n",
       "      <td>0</td>\n",
       "    </tr>\n",
       "    <tr>\n",
       "      <th>1257246</th>\n",
       "      <td>1257246</td>\n",
       "      <td>2014-12-08</td>\n",
       "      <td>35</td>\n",
       "      <td>GROCERY I</td>\n",
       "      <td>45361.000</td>\n",
       "      <td>3</td>\n",
       "    </tr>\n",
       "    <tr>\n",
       "      <th>1916586</th>\n",
       "      <td>1916586</td>\n",
       "      <td>2015-12-14</td>\n",
       "      <td>35</td>\n",
       "      <td>GROCERY I</td>\n",
       "      <td>40351.460</td>\n",
       "      <td>7</td>\n",
       "    </tr>\n",
       "    <tr>\n",
       "      <th>2760297</th>\n",
       "      <td>2760297</td>\n",
       "      <td>2017-04-02</td>\n",
       "      <td>9</td>\n",
       "      <td>GROCERY I</td>\n",
       "      <td>38422.625</td>\n",
       "      <td>73</td>\n",
       "    </tr>\n",
       "    <tr>\n",
       "      <th>2276022</th>\n",
       "      <td>2276022</td>\n",
       "      <td>2016-07-04</td>\n",
       "      <td>20</td>\n",
       "      <td>GROCERY I</td>\n",
       "      <td>37514.926</td>\n",
       "      <td>40</td>\n",
       "    </tr>\n",
       "    <tr>\n",
       "      <th>1271832</th>\n",
       "      <td>1271832</td>\n",
       "      <td>2014-12-16</td>\n",
       "      <td>44</td>\n",
       "      <td>GROCERY I</td>\n",
       "      <td>37106.000</td>\n",
       "      <td>7</td>\n",
       "    </tr>\n",
       "    <tr>\n",
       "      <th>1898370</th>\n",
       "      <td>1898370</td>\n",
       "      <td>2015-12-04</td>\n",
       "      <td>24</td>\n",
       "      <td>GROCERY I</td>\n",
       "      <td>35828.000</td>\n",
       "      <td>28</td>\n",
       "    </tr>\n",
       "    <tr>\n",
       "      <th>1923384</th>\n",
       "      <td>1923384</td>\n",
       "      <td>2015-12-18</td>\n",
       "      <td>26</td>\n",
       "      <td>GROCERY I</td>\n",
       "      <td>34454.000</td>\n",
       "      <td>14</td>\n",
       "    </tr>\n",
       "    <tr>\n",
       "      <th>1857219</th>\n",
       "      <td>1857219</td>\n",
       "      <td>2015-11-11</td>\n",
       "      <td>2</td>\n",
       "      <td>GROCERY I</td>\n",
       "      <td>33274.000</td>\n",
       "      <td>23</td>\n",
       "    </tr>\n",
       "    <tr>\n",
       "      <th>1269390</th>\n",
       "      <td>1269390</td>\n",
       "      <td>2014-12-15</td>\n",
       "      <td>26</td>\n",
       "      <td>GROCERY I</td>\n",
       "      <td>32209.000</td>\n",
       "      <td>17</td>\n",
       "    </tr>\n",
       "    <tr>\n",
       "      <th>1283844</th>\n",
       "      <td>1283844</td>\n",
       "      <td>2014-12-23</td>\n",
       "      <td>31</td>\n",
       "      <td>GROCERY I</td>\n",
       "      <td>31851.158</td>\n",
       "      <td>3</td>\n",
       "    </tr>\n",
       "    <tr>\n",
       "      <th>2550582</th>\n",
       "      <td>2550582</td>\n",
       "      <td>2016-12-05</td>\n",
       "      <td>24</td>\n",
       "      <td>GROCERY I</td>\n",
       "      <td>31689.000</td>\n",
       "      <td>98</td>\n",
       "    </tr>\n",
       "    <tr>\n",
       "      <th>1261635</th>\n",
       "      <td>1261635</td>\n",
       "      <td>2014-12-10</td>\n",
       "      <td>9</td>\n",
       "      <td>GROCERY I</td>\n",
       "      <td>31375.500</td>\n",
       "      <td>10</td>\n",
       "    </tr>\n",
       "    <tr>\n",
       "      <th>2563452</th>\n",
       "      <td>2563452</td>\n",
       "      <td>2016-12-12</td>\n",
       "      <td>35</td>\n",
       "      <td>GROCERY I</td>\n",
       "      <td>31125.521</td>\n",
       "      <td>77</td>\n",
       "    </tr>\n",
       "  </tbody>\n",
       "</table>\n",
       "</div>"
      ],
      "text/plain": [
       "              id        date  store_nbr     family       sales  onpromotion\n",
       "2163723  2163723  2016-05-02          2  GROCERY I  124717.000           59\n",
       "2445984  2445984  2016-10-07         39      MEATS   89576.360            0\n",
       "2144154  2144154  2016-04-21         20  GROCERY I   87438.516           53\n",
       "2139699  2139699  2016-04-18         45  GROCERY I   76090.000           38\n",
       "2153031  2153031  2016-04-26          2  GROCERY I   63434.000           30\n",
       "2145045  2145045  2016-04-21         45  GROCERY I   53874.000           44\n",
       "562596    562596  2013-11-12         44  GROCERY I   46271.000            0\n",
       "1257246  1257246  2014-12-08         35  GROCERY I   45361.000            3\n",
       "1916586  1916586  2015-12-14         35  GROCERY I   40351.460            7\n",
       "2760297  2760297  2017-04-02          9  GROCERY I   38422.625           73\n",
       "2276022  2276022  2016-07-04         20  GROCERY I   37514.926           40\n",
       "1271832  1271832  2014-12-16         44  GROCERY I   37106.000            7\n",
       "1898370  1898370  2015-12-04         24  GROCERY I   35828.000           28\n",
       "1923384  1923384  2015-12-18         26  GROCERY I   34454.000           14\n",
       "1857219  1857219  2015-11-11          2  GROCERY I   33274.000           23\n",
       "1269390  1269390  2014-12-15         26  GROCERY I   32209.000           17\n",
       "1283844  1283844  2014-12-23         31  GROCERY I   31851.158            3\n",
       "2550582  2550582  2016-12-05         24  GROCERY I   31689.000           98\n",
       "1261635  1261635  2014-12-10          9  GROCERY I   31375.500           10\n",
       "2563452  2563452  2016-12-12         35  GROCERY I   31125.521           77"
      ]
     },
     "execution_count": 9,
     "metadata": {},
     "output_type": "execute_result"
    }
   ],
   "source": [
    "train_df.nlargest(20, 'sales')"
   ]
  },
  {
   "cell_type": "code",
   "execution_count": 10,
   "metadata": {},
   "outputs": [
    {
     "data": {
      "text/plain": [
       "id             0\n",
       "date           0\n",
       "store_nbr      0\n",
       "family         0\n",
       "sales          0\n",
       "onpromotion    0\n",
       "dtype: int64"
      ]
     },
     "execution_count": 10,
     "metadata": {},
     "output_type": "execute_result"
    }
   ],
   "source": [
    "# check data quality of train_df\n",
    "train_df.isnull().sum()\n"
   ]
  },
  {
   "cell_type": "code",
   "execution_count": 11,
   "metadata": {},
   "outputs": [],
   "source": [
    "\n",
    "store_sales = train_df.merge(stores_df, on='store_nbr', how='left')"
   ]
  },
  {
   "cell_type": "code",
   "execution_count": 12,
   "metadata": {},
   "outputs": [],
   "source": [
    "# do a sum of sales grouped by cluster and date\n",
    "cluster_sales = store_sales.groupby(['cluster', 'date']).agg({'sales': 'sum'}).reset_index()"
   ]
  },
  {
   "cell_type": "code",
   "execution_count": 13,
   "metadata": {},
   "outputs": [
    {
     "name": "stderr",
     "output_type": "stream",
     "text": [
      "UserWarning: <function Series.isocalendar> is not currently supported by PandasOnDask, defaulting to pandas implementation.\n",
      "Please refer to https://modin.readthedocs.io/en/stable/supported_apis/defaulting_to_pandas.html for explanation.\n"
     ]
    }
   ],
   "source": [
    "\n",
    "cluster_sales['date'] = pd.to_datetime(cluster_sales['date'])\n",
    "cluster_sales['week'] = cluster_sales['date'].dt.isocalendar().week\n",
    "\n"
   ]
  },
  {
   "cell_type": "code",
   "execution_count": 14,
   "metadata": {},
   "outputs": [],
   "source": [
    "\n",
    "clusters = cluster_sales['cluster'].unique()"
   ]
  },
  {
   "cell_type": "code",
   "execution_count": 15,
   "metadata": {},
   "outputs": [],
   "source": [
    "#group by week and cluster\n",
    "weekly_sales = cluster_sales.groupby(['cluster', 'week']).agg({'sales': 'sum'}).reset_index()"
   ]
  },
  {
   "cell_type": "code",
   "execution_count": 18,
   "metadata": {},
   "outputs": [
    {
     "data": {
      "application/vnd.plotly.v1+json": {
       "config": {
        "plotlyServerURL": "https://plot.ly"
       },
       "data": [
        {
         "mode": "lines+markers",
         "name": "Cluster 1",
         "type": "scatter",
         "x": [
          1,
          2,
          3,
          4,
          5,
          6,
          7,
          8,
          9,
          10,
          11,
          12,
          13,
          14,
          15,
          16,
          17,
          18,
          19,
          20,
          21,
          22,
          23,
          24,
          25,
          26,
          27,
          28,
          29,
          30,
          31,
          32,
          33,
          34,
          35,
          36,
          37,
          38,
          39,
          40,
          41,
          42,
          43,
          44,
          45,
          46,
          47,
          48,
          49,
          50,
          51,
          52,
          53
         ],
         "y": [
          1338814.620354,
          1134022.104667,
          1133353.6333269998,
          1115425.364664,
          1207492.121845,
          1112329.263918,
          1079902.0970299998,
          1121256.2306050002,
          1190092.5066195,
          1183996.2493032,
          1188504.334371,
          1211549.3799140002,
          1177905.4944989998,
          1108453.5516963,
          1079472.2872112,
          1086265.757606,
          961200.6404385,
          1018553.39421,
          946553.3200424999,
          980710.81748,
          988213.0063794999,
          1008828.3518385,
          1025142.034261,
          1025639.6583405,
          1038489.7133605,
          1039120.3030020001,
          1116204.7539255,
          1069800.4449325,
          1085562.420845,
          1165751.8597324998,
          1222625.137953,
          1178965.506882,
          949738.4271740001,
          792768.503087,
          788227.7528210001,
          867062.3080735,
          835497.2379679999,
          841729.944166,
          798218.4849790001,
          845582.234165,
          904155.9249342,
          869356.471955,
          880822.3319570001,
          997791.308268,
          945221.009998,
          942080.458863,
          903261.6632030001,
          929611.6429493,
          1051767.629378,
          1016473.6070805001,
          1152486.3406365002,
          1342552.322793,
          382149.990119
         ]
        }
       ],
       "layout": {
        "template": {
         "data": {
          "bar": [
           {
            "error_x": {
             "color": "#2a3f5f"
            },
            "error_y": {
             "color": "#2a3f5f"
            },
            "marker": {
             "line": {
              "color": "#E5ECF6",
              "width": 0.5
             },
             "pattern": {
              "fillmode": "overlay",
              "size": 10,
              "solidity": 0.2
             }
            },
            "type": "bar"
           }
          ],
          "barpolar": [
           {
            "marker": {
             "line": {
              "color": "#E5ECF6",
              "width": 0.5
             },
             "pattern": {
              "fillmode": "overlay",
              "size": 10,
              "solidity": 0.2
             }
            },
            "type": "barpolar"
           }
          ],
          "carpet": [
           {
            "aaxis": {
             "endlinecolor": "#2a3f5f",
             "gridcolor": "white",
             "linecolor": "white",
             "minorgridcolor": "white",
             "startlinecolor": "#2a3f5f"
            },
            "baxis": {
             "endlinecolor": "#2a3f5f",
             "gridcolor": "white",
             "linecolor": "white",
             "minorgridcolor": "white",
             "startlinecolor": "#2a3f5f"
            },
            "type": "carpet"
           }
          ],
          "choropleth": [
           {
            "colorbar": {
             "outlinewidth": 0,
             "ticks": ""
            },
            "type": "choropleth"
           }
          ],
          "contour": [
           {
            "colorbar": {
             "outlinewidth": 0,
             "ticks": ""
            },
            "colorscale": [
             [
              0,
              "#0d0887"
             ],
             [
              0.1111111111111111,
              "#46039f"
             ],
             [
              0.2222222222222222,
              "#7201a8"
             ],
             [
              0.3333333333333333,
              "#9c179e"
             ],
             [
              0.4444444444444444,
              "#bd3786"
             ],
             [
              0.5555555555555556,
              "#d8576b"
             ],
             [
              0.6666666666666666,
              "#ed7953"
             ],
             [
              0.7777777777777778,
              "#fb9f3a"
             ],
             [
              0.8888888888888888,
              "#fdca26"
             ],
             [
              1,
              "#f0f921"
             ]
            ],
            "type": "contour"
           }
          ],
          "contourcarpet": [
           {
            "colorbar": {
             "outlinewidth": 0,
             "ticks": ""
            },
            "type": "contourcarpet"
           }
          ],
          "heatmap": [
           {
            "colorbar": {
             "outlinewidth": 0,
             "ticks": ""
            },
            "colorscale": [
             [
              0,
              "#0d0887"
             ],
             [
              0.1111111111111111,
              "#46039f"
             ],
             [
              0.2222222222222222,
              "#7201a8"
             ],
             [
              0.3333333333333333,
              "#9c179e"
             ],
             [
              0.4444444444444444,
              "#bd3786"
             ],
             [
              0.5555555555555556,
              "#d8576b"
             ],
             [
              0.6666666666666666,
              "#ed7953"
             ],
             [
              0.7777777777777778,
              "#fb9f3a"
             ],
             [
              0.8888888888888888,
              "#fdca26"
             ],
             [
              1,
              "#f0f921"
             ]
            ],
            "type": "heatmap"
           }
          ],
          "heatmapgl": [
           {
            "colorbar": {
             "outlinewidth": 0,
             "ticks": ""
            },
            "colorscale": [
             [
              0,
              "#0d0887"
             ],
             [
              0.1111111111111111,
              "#46039f"
             ],
             [
              0.2222222222222222,
              "#7201a8"
             ],
             [
              0.3333333333333333,
              "#9c179e"
             ],
             [
              0.4444444444444444,
              "#bd3786"
             ],
             [
              0.5555555555555556,
              "#d8576b"
             ],
             [
              0.6666666666666666,
              "#ed7953"
             ],
             [
              0.7777777777777778,
              "#fb9f3a"
             ],
             [
              0.8888888888888888,
              "#fdca26"
             ],
             [
              1,
              "#f0f921"
             ]
            ],
            "type": "heatmapgl"
           }
          ],
          "histogram": [
           {
            "marker": {
             "pattern": {
              "fillmode": "overlay",
              "size": 10,
              "solidity": 0.2
             }
            },
            "type": "histogram"
           }
          ],
          "histogram2d": [
           {
            "colorbar": {
             "outlinewidth": 0,
             "ticks": ""
            },
            "colorscale": [
             [
              0,
              "#0d0887"
             ],
             [
              0.1111111111111111,
              "#46039f"
             ],
             [
              0.2222222222222222,
              "#7201a8"
             ],
             [
              0.3333333333333333,
              "#9c179e"
             ],
             [
              0.4444444444444444,
              "#bd3786"
             ],
             [
              0.5555555555555556,
              "#d8576b"
             ],
             [
              0.6666666666666666,
              "#ed7953"
             ],
             [
              0.7777777777777778,
              "#fb9f3a"
             ],
             [
              0.8888888888888888,
              "#fdca26"
             ],
             [
              1,
              "#f0f921"
             ]
            ],
            "type": "histogram2d"
           }
          ],
          "histogram2dcontour": [
           {
            "colorbar": {
             "outlinewidth": 0,
             "ticks": ""
            },
            "colorscale": [
             [
              0,
              "#0d0887"
             ],
             [
              0.1111111111111111,
              "#46039f"
             ],
             [
              0.2222222222222222,
              "#7201a8"
             ],
             [
              0.3333333333333333,
              "#9c179e"
             ],
             [
              0.4444444444444444,
              "#bd3786"
             ],
             [
              0.5555555555555556,
              "#d8576b"
             ],
             [
              0.6666666666666666,
              "#ed7953"
             ],
             [
              0.7777777777777778,
              "#fb9f3a"
             ],
             [
              0.8888888888888888,
              "#fdca26"
             ],
             [
              1,
              "#f0f921"
             ]
            ],
            "type": "histogram2dcontour"
           }
          ],
          "mesh3d": [
           {
            "colorbar": {
             "outlinewidth": 0,
             "ticks": ""
            },
            "type": "mesh3d"
           }
          ],
          "parcoords": [
           {
            "line": {
             "colorbar": {
              "outlinewidth": 0,
              "ticks": ""
             }
            },
            "type": "parcoords"
           }
          ],
          "pie": [
           {
            "automargin": true,
            "type": "pie"
           }
          ],
          "scatter": [
           {
            "fillpattern": {
             "fillmode": "overlay",
             "size": 10,
             "solidity": 0.2
            },
            "type": "scatter"
           }
          ],
          "scatter3d": [
           {
            "line": {
             "colorbar": {
              "outlinewidth": 0,
              "ticks": ""
             }
            },
            "marker": {
             "colorbar": {
              "outlinewidth": 0,
              "ticks": ""
             }
            },
            "type": "scatter3d"
           }
          ],
          "scattercarpet": [
           {
            "marker": {
             "colorbar": {
              "outlinewidth": 0,
              "ticks": ""
             }
            },
            "type": "scattercarpet"
           }
          ],
          "scattergeo": [
           {
            "marker": {
             "colorbar": {
              "outlinewidth": 0,
              "ticks": ""
             }
            },
            "type": "scattergeo"
           }
          ],
          "scattergl": [
           {
            "marker": {
             "colorbar": {
              "outlinewidth": 0,
              "ticks": ""
             }
            },
            "type": "scattergl"
           }
          ],
          "scattermapbox": [
           {
            "marker": {
             "colorbar": {
              "outlinewidth": 0,
              "ticks": ""
             }
            },
            "type": "scattermapbox"
           }
          ],
          "scatterpolar": [
           {
            "marker": {
             "colorbar": {
              "outlinewidth": 0,
              "ticks": ""
             }
            },
            "type": "scatterpolar"
           }
          ],
          "scatterpolargl": [
           {
            "marker": {
             "colorbar": {
              "outlinewidth": 0,
              "ticks": ""
             }
            },
            "type": "scatterpolargl"
           }
          ],
          "scatterternary": [
           {
            "marker": {
             "colorbar": {
              "outlinewidth": 0,
              "ticks": ""
             }
            },
            "type": "scatterternary"
           }
          ],
          "surface": [
           {
            "colorbar": {
             "outlinewidth": 0,
             "ticks": ""
            },
            "colorscale": [
             [
              0,
              "#0d0887"
             ],
             [
              0.1111111111111111,
              "#46039f"
             ],
             [
              0.2222222222222222,
              "#7201a8"
             ],
             [
              0.3333333333333333,
              "#9c179e"
             ],
             [
              0.4444444444444444,
              "#bd3786"
             ],
             [
              0.5555555555555556,
              "#d8576b"
             ],
             [
              0.6666666666666666,
              "#ed7953"
             ],
             [
              0.7777777777777778,
              "#fb9f3a"
             ],
             [
              0.8888888888888888,
              "#fdca26"
             ],
             [
              1,
              "#f0f921"
             ]
            ],
            "type": "surface"
           }
          ],
          "table": [
           {
            "cells": {
             "fill": {
              "color": "#EBF0F8"
             },
             "line": {
              "color": "white"
             }
            },
            "header": {
             "fill": {
              "color": "#C8D4E3"
             },
             "line": {
              "color": "white"
             }
            },
            "type": "table"
           }
          ]
         },
         "layout": {
          "annotationdefaults": {
           "arrowcolor": "#2a3f5f",
           "arrowhead": 0,
           "arrowwidth": 1
          },
          "autotypenumbers": "strict",
          "coloraxis": {
           "colorbar": {
            "outlinewidth": 0,
            "ticks": ""
           }
          },
          "colorscale": {
           "diverging": [
            [
             0,
             "#8e0152"
            ],
            [
             0.1,
             "#c51b7d"
            ],
            [
             0.2,
             "#de77ae"
            ],
            [
             0.3,
             "#f1b6da"
            ],
            [
             0.4,
             "#fde0ef"
            ],
            [
             0.5,
             "#f7f7f7"
            ],
            [
             0.6,
             "#e6f5d0"
            ],
            [
             0.7,
             "#b8e186"
            ],
            [
             0.8,
             "#7fbc41"
            ],
            [
             0.9,
             "#4d9221"
            ],
            [
             1,
             "#276419"
            ]
           ],
           "sequential": [
            [
             0,
             "#0d0887"
            ],
            [
             0.1111111111111111,
             "#46039f"
            ],
            [
             0.2222222222222222,
             "#7201a8"
            ],
            [
             0.3333333333333333,
             "#9c179e"
            ],
            [
             0.4444444444444444,
             "#bd3786"
            ],
            [
             0.5555555555555556,
             "#d8576b"
            ],
            [
             0.6666666666666666,
             "#ed7953"
            ],
            [
             0.7777777777777778,
             "#fb9f3a"
            ],
            [
             0.8888888888888888,
             "#fdca26"
            ],
            [
             1,
             "#f0f921"
            ]
           ],
           "sequentialminus": [
            [
             0,
             "#0d0887"
            ],
            [
             0.1111111111111111,
             "#46039f"
            ],
            [
             0.2222222222222222,
             "#7201a8"
            ],
            [
             0.3333333333333333,
             "#9c179e"
            ],
            [
             0.4444444444444444,
             "#bd3786"
            ],
            [
             0.5555555555555556,
             "#d8576b"
            ],
            [
             0.6666666666666666,
             "#ed7953"
            ],
            [
             0.7777777777777778,
             "#fb9f3a"
            ],
            [
             0.8888888888888888,
             "#fdca26"
            ],
            [
             1,
             "#f0f921"
            ]
           ]
          },
          "colorway": [
           "#636efa",
           "#EF553B",
           "#00cc96",
           "#ab63fa",
           "#FFA15A",
           "#19d3f3",
           "#FF6692",
           "#B6E880",
           "#FF97FF",
           "#FECB52"
          ],
          "font": {
           "color": "#2a3f5f"
          },
          "geo": {
           "bgcolor": "white",
           "lakecolor": "white",
           "landcolor": "#E5ECF6",
           "showlakes": true,
           "showland": true,
           "subunitcolor": "white"
          },
          "hoverlabel": {
           "align": "left"
          },
          "hovermode": "closest",
          "mapbox": {
           "style": "light"
          },
          "paper_bgcolor": "white",
          "plot_bgcolor": "#E5ECF6",
          "polar": {
           "angularaxis": {
            "gridcolor": "white",
            "linecolor": "white",
            "ticks": ""
           },
           "bgcolor": "#E5ECF6",
           "radialaxis": {
            "gridcolor": "white",
            "linecolor": "white",
            "ticks": ""
           }
          },
          "scene": {
           "xaxis": {
            "backgroundcolor": "#E5ECF6",
            "gridcolor": "white",
            "gridwidth": 2,
            "linecolor": "white",
            "showbackground": true,
            "ticks": "",
            "zerolinecolor": "white"
           },
           "yaxis": {
            "backgroundcolor": "#E5ECF6",
            "gridcolor": "white",
            "gridwidth": 2,
            "linecolor": "white",
            "showbackground": true,
            "ticks": "",
            "zerolinecolor": "white"
           },
           "zaxis": {
            "backgroundcolor": "#E5ECF6",
            "gridcolor": "white",
            "gridwidth": 2,
            "linecolor": "white",
            "showbackground": true,
            "ticks": "",
            "zerolinecolor": "white"
           }
          },
          "shapedefaults": {
           "line": {
            "color": "#2a3f5f"
           }
          },
          "ternary": {
           "aaxis": {
            "gridcolor": "white",
            "linecolor": "white",
            "ticks": ""
           },
           "baxis": {
            "gridcolor": "white",
            "linecolor": "white",
            "ticks": ""
           },
           "bgcolor": "#E5ECF6",
           "caxis": {
            "gridcolor": "white",
            "linecolor": "white",
            "ticks": ""
           }
          },
          "title": {
           "x": 0.05
          },
          "xaxis": {
           "automargin": true,
           "gridcolor": "white",
           "linecolor": "white",
           "ticks": "",
           "title": {
            "standoff": 15
           },
           "zerolinecolor": "white",
           "zerolinewidth": 2
          },
          "yaxis": {
           "automargin": true,
           "gridcolor": "white",
           "linecolor": "white",
           "ticks": "",
           "title": {
            "standoff": 15
           },
           "zerolinecolor": "white",
           "zerolinewidth": 2
          }
         }
        },
        "title": {
         "text": "Sales by Week for Cluster 1"
        },
        "xaxis": {
         "title": {
          "text": "Week"
         }
        },
        "yaxis": {
         "title": {
          "text": "Sales"
         }
        }
       }
      }
     },
     "metadata": {},
     "output_type": "display_data"
    }
   ],
   "source": [
    "cluster_1 = weekly_sales[weekly_sales['cluster'] == 1]\n",
    "\n",
    "fig = go.Figure()\n",
    "\n",
    "fig.add_trace(go.Scatter(x=cluster_1['week'], \n",
    "                         y=cluster_1['sales'], \n",
    "                         mode='lines+markers', \n",
    "                         name='Cluster 1'))\n",
    "\n",
    "\n",
    "fig.update_layout(title='Sales by Week for Cluster 1',\n",
    "                  xaxis_title='Week',\n",
    "                  yaxis_title='Sales')\n",
    "\n",
    "# Show the plot\n",
    "fig.show()\n"
   ]
  },
  {
   "cell_type": "code",
   "execution_count": 20,
   "metadata": {},
   "outputs": [
    {
     "data": {
      "application/vnd.plotly.v1+json": {
       "config": {
        "plotlyServerURL": "https://plot.ly"
       },
       "data": [
        {
         "mode": "lines+markers",
         "name": "Cluster 1",
         "type": "scatter",
         "x": [
          1,
          2,
          3,
          4,
          5,
          6,
          7,
          8,
          9,
          10,
          11,
          12,
          13,
          14,
          15,
          16,
          17,
          18,
          19,
          20,
          21,
          22,
          23,
          24,
          25,
          26,
          27,
          28,
          29,
          30,
          31,
          32,
          33,
          34,
          35,
          36,
          37,
          38,
          39,
          40,
          41,
          42,
          43,
          44,
          45,
          46,
          47,
          48,
          49,
          50,
          51,
          52,
          53
         ],
         "y": [
          1338814.620354,
          1134022.104667,
          1133353.6333269998,
          1115425.364664,
          1207492.121845,
          1112329.263918,
          1079902.0970299998,
          1121256.2306050002,
          1190092.5066195,
          1183996.2493032,
          1188504.334371,
          1211549.3799140002,
          1177905.4944989998,
          1108453.5516963,
          1079472.2872112,
          1086265.757606,
          961200.6404385,
          1018553.39421,
          946553.3200424999,
          980710.81748,
          988213.0063794999,
          1008828.3518385,
          1025142.034261,
          1025639.6583405,
          1038489.7133605,
          1039120.3030020001,
          1116204.7539255,
          1069800.4449325,
          1085562.420845,
          1165751.8597324998,
          1222625.137953,
          1178965.506882,
          949738.4271740001,
          792768.503087,
          788227.7528210001,
          867062.3080735,
          835497.2379679999,
          841729.944166,
          798218.4849790001,
          845582.234165,
          904155.9249342,
          869356.471955,
          880822.3319570001,
          997791.308268,
          945221.009998,
          942080.458863,
          903261.6632030001,
          929611.6429493,
          1051767.629378,
          1016473.6070805001,
          1152486.3406365002,
          1342552.322793,
          382149.990119
         ]
        },
        {
         "mode": "lines+markers",
         "name": "Cluster 2",
         "type": "scatter",
         "x": [
          1,
          2,
          3,
          4,
          5,
          6,
          7,
          8,
          9,
          10,
          11,
          12,
          13,
          14,
          15,
          16,
          17,
          18,
          19,
          20,
          21,
          22,
          23,
          24,
          25,
          26,
          27,
          28,
          29,
          30,
          31,
          32,
          33,
          34,
          35,
          36,
          37,
          38,
          39,
          40,
          41,
          42,
          43,
          44,
          45,
          46,
          47,
          48,
          49,
          50,
          51,
          52,
          53
         ],
         "y": [
          675521.2895755,
          600475.756783,
          591455.5033535,
          560235.354864,
          596120.221679,
          543014.9820523,
          538314.22211,
          524848.279024,
          602629.9828265,
          604557.733505,
          592069.4533769999,
          573065.0711149999,
          608737.4124949999,
          578079.7923425001,
          524941.2617145,
          563393.0217665,
          525213.0432603,
          589031.268166,
          544567.1839505,
          551507.960524,
          530675.2071695,
          604104.0832730001,
          612613.628171,
          574678.190237,
          575361.4388956,
          587251.2089665,
          665920.6128217,
          614101.6460623001,
          617535.81318,
          602294.089788,
          600217.872975,
          494955.55800250004,
          387761.79188150004,
          395447.320013,
          450975.836908,
          550849.842822,
          485899.4549295,
          486375.51488300005,
          495134.490045,
          559607.327109,
          499053.562896,
          498077.641081,
          477756.3420187,
          513276.09195589996,
          574997.480979,
          505046.480957,
          510418.2348848,
          519618.605101,
          571325.045954,
          565449.4140860001,
          609504.2280915,
          520838.50101300003,
          171502.148006
         ]
        },
        {
         "mode": "lines+markers",
         "name": "Cluster 3",
         "type": "scatter",
         "x": [
          1,
          2,
          3,
          4,
          5,
          6,
          7,
          8,
          9,
          10,
          11,
          12,
          13,
          14,
          15,
          16,
          17,
          18,
          19,
          20,
          21,
          22,
          23,
          24,
          25,
          26,
          27,
          28,
          29,
          30,
          31,
          32,
          33,
          34,
          35,
          36,
          37,
          38,
          39,
          40,
          41,
          42,
          43,
          44,
          45,
          46,
          47,
          48,
          49,
          50,
          51,
          52,
          53
         ],
         "y": [
          1627392.7187339999,
          1465835.9535105,
          1449233.2814155,
          1430214.7138260002,
          1559435.419179,
          1415302.902724,
          1384283.7121325,
          1381956.740322,
          1523865.734571,
          1517394.2959840002,
          1481595.092615,
          1489998.3118740001,
          1564615.370971,
          1495791.181582,
          1440566.529324,
          1573131.22929,
          1404020.505839,
          1586247.767977,
          1489664.1232830002,
          1557611.219571,
          1462056.303063,
          1662741.301999,
          1636466.931744,
          1518811.7469020002,
          1509843.1680765,
          1590068.8707626,
          1794143.4717640001,
          1642707.390177,
          1607234.1199605,
          1625851.210091,
          1775777.6287900002,
          1576523.674065,
          1323609.9420097,
          1155085.442985,
          1228922.863996,
          1379360.28604,
          1240061.967841,
          1246344.684991,
          1202230.26696,
          1296028.948915,
          1229814.621121,
          1251456.5749297,
          1163895.296244,
          1265686.680094,
          1332861.354084,
          1255381.0520007,
          1229498.747992,
          1277319.1081039999,
          1380834.9998599999,
          1444817.402071,
          1610366.303969,
          1485802.406945,
          388941.881984
         ]
        },
        {
         "mode": "lines+markers",
         "name": "Cluster 4",
         "type": "scatter",
         "x": [
          1,
          2,
          3,
          4,
          5,
          6,
          7,
          8,
          9,
          10,
          11,
          12,
          13,
          14,
          15,
          16,
          17,
          18,
          19,
          20,
          21,
          22,
          23,
          24,
          25,
          26,
          27,
          28,
          29,
          30,
          31,
          32,
          33,
          34,
          35,
          36,
          37,
          38,
          39,
          40,
          41,
          42,
          43,
          44,
          45,
          46,
          47,
          48,
          49,
          50,
          51,
          52,
          53
         ],
         "y": [
          1166206.5975795,
          1004136.271094,
          978912.1731947,
          974387.724577,
          994736.4911496,
          900870.84618,
          875136.7853685,
          878214.7859762,
          989354.496864,
          1020885.0810819999,
          998394.2305525,
          975411.116028,
          1018611.7524268001,
          954861.6432771999,
          873855.5563668001,
          909773.1424313,
          901827.178762,
          1018935.2161091999,
          938099.463218,
          937594.7360938999,
          923921.880222,
          1047845.5967991999,
          1056426.5205768999,
          1007426.1173971,
          986876.8738269999,
          992579.9570625001,
          1149913.6030215002,
          1098254.9950722,
          1094963.3520852001,
          1077658.3771706,
          1108921.2190052,
          961466.9119119,
          808335.4410496,
          731643.4287087,
          756095.6649418001,
          875029.1951748,
          795397.8390436999,
          804359.2689473999,
          796538.074153,
          879954.2058464,
          831545.5459767,
          817548.3973143001,
          783252.3428505,
          825036.7760395,
          932648.442948,
          824610.0399329,
          832502.3448073999,
          878436.9159336,
          933541.2579610001,
          992842.8036346,
          1174324.4719361998,
          1082637.7419715,
          270702.0798131
         ]
        },
        {
         "mode": "lines+markers",
         "name": "Cluster 5",
         "type": "scatter",
         "x": [
          1,
          2,
          3,
          4,
          5,
          6,
          7,
          8,
          9,
          10,
          11,
          12,
          13,
          14,
          15,
          16,
          17,
          18,
          19,
          20,
          21,
          22,
          23,
          24,
          25,
          26,
          27,
          28,
          29,
          30,
          31,
          32,
          33,
          34,
          35,
          36,
          37,
          38,
          39,
          40,
          41,
          42,
          43,
          44,
          45,
          46,
          47,
          48,
          49,
          50,
          51,
          52,
          53
         ],
         "y": [
          1441745.502349,
          1333787.448343,
          1260944.930457,
          1239947.416061,
          1194287.51193,
          1126878.1842959998,
          1109361.271205,
          1069373.587806,
          1265631.844826,
          1304080.173876,
          1281511.280094,
          1215967.730438,
          1272810.2232040002,
          1184530.359014,
          1134050.844286,
          1270574.604031,
          1147849.551546,
          1235799.003056,
          1119904.3857769999,
          1163741.40394,
          1113626.797086,
          1233408.21815,
          1277952.858901,
          1194720.28644,
          1195204.81719,
          1242584.31247,
          1374390.389084,
          1283758.915207,
          1294251.056236,
          1282479.410977,
          1294882.7965560001,
          1110919.475061,
          1035534.4140769999,
          897660.075936,
          1004250.441706,
          1227025.383085,
          1105470.21316,
          1078197.45815,
          1125863.61344,
          1222180.582456,
          1093285.792264,
          1100033.278929,
          1042401.5070399999,
          1050810.778044,
          1230641.62093,
          1139147.74523,
          1093443.779648,
          1140061.30399,
          1232302.295085,
          1286164.351471,
          1353460.572446,
          1054036.889059,
          304624.56405
         ]
        },
        {
         "mode": "lines+markers",
         "name": "Cluster 6",
         "type": "scatter",
         "x": [
          1,
          2,
          3,
          4,
          5,
          6,
          7,
          8,
          9,
          10,
          11,
          12,
          13,
          14,
          15,
          16,
          17,
          18,
          19,
          20,
          21,
          22,
          23,
          24,
          25,
          26,
          27,
          28,
          29,
          30,
          31,
          32,
          33,
          34,
          35,
          36,
          37,
          38,
          39,
          40,
          41,
          42,
          43,
          44,
          45,
          46,
          47,
          48,
          49,
          50,
          51,
          52,
          53
         ],
         "y": [
          2528111.6331487,
          2133537.771452,
          2053661.141737,
          2005572.1769557,
          2306091.493984,
          2168722.8379547,
          2093272.4813855998,
          2108574.7438594997,
          2566112.207563,
          2431531.520142,
          2205411.1168432,
          2164407.065099,
          2454883.323821,
          2553090.9578795,
          2215942.840618,
          2590184.5123792,
          2174526.920395,
          2603530.8519483,
          2244351.1275455,
          2208368.1206687,
          2059832.4211974998,
          2513612.5308904,
          2468524.2040751,
          2203185.9797462,
          2170107.7837946,
          2297701.2890322,
          2735795.2771365,
          2335702.8824513,
          2251826.4760370003,
          2352566.1893244,
          2797944.8304768,
          2414701.4399765,
          1921068.6499705,
          1646019.5018881,
          1814554.9690065,
          2226293.9243692,
          1855438.1159655,
          1815929.3129663002,
          1848309.9541026,
          2327899.6660221,
          1959359.5520548,
          1794826.2301333,
          1663562.7450225,
          1913751.1269719,
          2121606.8451083,
          1811747.5641196,
          1788888.4482402,
          1918279.6390727,
          2243611.914934,
          2061797.15478,
          2306236.7209970998,
          2134107.2476703003,
          669711.309008
         ]
        },
        {
         "mode": "lines+markers",
         "name": "Cluster 7",
         "type": "scatter",
         "x": [
          1,
          2,
          3,
          4,
          5,
          6,
          7,
          8,
          9,
          10,
          11,
          12,
          13,
          14,
          15,
          16,
          17,
          18,
          19,
          20,
          21,
          22,
          23,
          24,
          25,
          26,
          27,
          28,
          29,
          30,
          31,
          32,
          33,
          34,
          35,
          36,
          37,
          38,
          39,
          40,
          41,
          42,
          43,
          44,
          45,
          46,
          47,
          48,
          49,
          50,
          51,
          52,
          53
         ],
         "y": [
          356657.92527400004,
          313159.860202,
          299612.944858,
          300735.784541,
          317403.945294,
          301758.502279,
          284916.693386,
          294358.90820299997,
          345071.272445,
          325299.369618,
          297829.325854,
          304996.107082,
          333763.922623,
          344754.769137,
          309676.020082,
          321215.155618,
          326551.60232299997,
          354532.067459,
          315583.639925,
          312031.84946399997,
          309405.749952,
          343683.73491,
          343056.412882,
          303505.036979,
          303016.826008,
          314982.61701499997,
          354010.843089,
          321825.59194199997,
          305404.59099299996,
          334255.185083,
          354591.03004899994,
          271563.774971,
          198180.557982,
          164190.561044,
          181308.186039,
          203119.835996,
          227278.255914,
          225953.14795999997,
          240007.276949,
          266906.190689,
          297869.003982,
          285190.950274,
          250760.85204199998,
          267996.982639,
          295995.57374,
          266830.873236,
          280417.669329,
          279807.29293999996,
          302920.829991,
          276394.905984,
          332710.53584200004,
          318677.315875,
          96392.631031
         ]
        },
        {
         "mode": "lines+markers",
         "name": "Cluster 8",
         "type": "scatter",
         "x": [
          1,
          2,
          3,
          4,
          5,
          6,
          7,
          8,
          9,
          10,
          11,
          12,
          13,
          14,
          15,
          16,
          17,
          18,
          19,
          20,
          21,
          22,
          23,
          24,
          25,
          26,
          27,
          28,
          29,
          30,
          31,
          32,
          33,
          34,
          35,
          36,
          37,
          38,
          39,
          40,
          41,
          42,
          43,
          44,
          45,
          46,
          47,
          48,
          49,
          50,
          51,
          52,
          53
         ],
         "y": [
          2425204.320518,
          2294377.204641,
          2244708.203052,
          2155932.287557,
          2094017.0583459998,
          1958243.2329819999,
          1965109.8077399998,
          1942569.8644309998,
          2132859.456324,
          2284653.876193,
          2222772.62141,
          2157676.818312,
          2263538.019132,
          2116464.567422,
          2004900.721647,
          2213821.744764,
          1973584.2584819999,
          2131757.929183,
          2001508.6109929997,
          2073152.162962,
          1944642.5471919999,
          2193105.232982,
          2294655.239469,
          2192346.412365,
          2193966.694221,
          2170187.764966,
          2483972.566457,
          2284281.5063300002,
          2282442.502589,
          2173428.39542,
          2204349.348666,
          1911067.907616,
          1744964.274654,
          1549110.606184,
          1698711.389504,
          2066929.898782,
          1868485.218912,
          1897960.223651,
          1905269.0380860001,
          2076832.23753,
          1872444.7003179998,
          1891583.712724,
          1813774.309341,
          1741320.4764649998,
          2080206.64775,
          1929822.862771,
          1925421.782326,
          1970168.4929259997,
          2111009.440206,
          2172493.730292,
          2275272.203487,
          1829330.3658109999,
          521836.199984
         ]
        },
        {
         "mode": "lines+markers",
         "name": "Cluster 9",
         "type": "scatter",
         "x": [
          1,
          2,
          3,
          4,
          5,
          6,
          7,
          8,
          9,
          10,
          11,
          12,
          13,
          14,
          15,
          16,
          17,
          18,
          19,
          20,
          21,
          22,
          23,
          24,
          25,
          26,
          27,
          28,
          29,
          30,
          31,
          32,
          33,
          34,
          35,
          36,
          37,
          38,
          39,
          40,
          41,
          42,
          43,
          44,
          45,
          46,
          47,
          48,
          49,
          50,
          51,
          52,
          53
         ],
         "y": [
          718016.4903559,
          650449.7868033,
          637408.549791,
          624646.2831216999,
          610177.810291,
          573785.9992212,
          573396.9146695,
          571264.185876,
          632965.9293685,
          653581.3677685,
          621237.507049,
          629800.7429239999,
          655251.8181,
          620521.8367025,
          573181.6756205,
          602602.568702,
          561642.304339,
          611135.1191255,
          566911.6107429999,
          588612.1988830001,
          562940.5272895,
          628637.9940145,
          642029.9169675,
          611014.8911612,
          619264.1285345,
          615607.2409719999,
          685169.9130635001,
          626183.0983453,
          632340.596997,
          623898.739009,
          625680.4161139999,
          548474.087066,
          481733.3038175,
          437560.1989375,
          457456.26089750003,
          575442.4678225,
          518144.094894,
          522965.61002699996,
          536211.0349,
          587920.666028,
          528579.774863,
          521811.6581109,
          517630.8232305,
          496725.134019,
          579179.806075,
          528068.3858695,
          532906.669974,
          530226.4101,
          568334.087883,
          552949.120128,
          642324.365144,
          588451.2171397,
          158627.71606
         ]
        },
        {
         "mode": "lines+markers",
         "name": "Cluster 10",
         "type": "scatter",
         "x": [
          1,
          2,
          3,
          4,
          5,
          6,
          7,
          8,
          9,
          10,
          11,
          12,
          13,
          14,
          15,
          16,
          17,
          18,
          19,
          20,
          21,
          22,
          23,
          24,
          25,
          26,
          27,
          28,
          29,
          30,
          31,
          32,
          33,
          34,
          35,
          36,
          37,
          38,
          39,
          40,
          41,
          42,
          43,
          44,
          45,
          46,
          47,
          48,
          49,
          50,
          51,
          52,
          53
         ],
         "y": [
          1943470.180888,
          1585909.1906766,
          1575683.9762833,
          1512616.7141373,
          1719405.855115,
          1500561.682186,
          1481009.6738695,
          1502292.8638877,
          1734370.2149749,
          1629961.2067391,
          1611425.653728,
          1648248.344932,
          1761655.4570598,
          1718977.2844882,
          1577739.2674079998,
          1820900.2473868001,
          1564250.0357783,
          1827997.0464843,
          1658142.745695,
          1723370.4121658,
          1643259.089516,
          1941534.8704129998,
          1803829.4230880002,
          1718158.7021770002,
          1729948.2009729,
          1846959.4379315001,
          2065701.0399196,
          1842893.9467618002,
          1802543.8150311,
          1855993.7895625,
          2080593.1436726,
          1837135.43811,
          1483723.0289221,
          1284185.0901683,
          1393669.8180891,
          1519692.2400840002,
          1389474.9560447,
          1389609.8939018,
          1332494.3448703,
          1508432.8640893002,
          1428902.8408940998,
          1407497.20908,
          1306497.2311729,
          1430937.5819004,
          1463634.4568642,
          1335837.2730756998,
          1323811.5749179,
          1455372.629046,
          1586181.382018,
          1572770.3488755,
          1976132.8290043,
          1922498.9508291,
          546534.936982
         ]
        },
        {
         "mode": "lines+markers",
         "name": "Cluster 11",
         "type": "scatter",
         "x": [
          1,
          2,
          3,
          4,
          5,
          6,
          7,
          8,
          9,
          10,
          11,
          12,
          13,
          14,
          15,
          16,
          17,
          18,
          19,
          20,
          21,
          22,
          23,
          24,
          25,
          26,
          27,
          28,
          29,
          30,
          31,
          32,
          33,
          34,
          35,
          36,
          37,
          38,
          39,
          40,
          41,
          42,
          43,
          44,
          45,
          46,
          47,
          48,
          49,
          50,
          51,
          52,
          53
         ],
         "y": [
          2354671.3565930002,
          2036930.7767579998,
          1971611.5495759998,
          1857183.955091,
          1888641.3467430002,
          1800546.851096,
          1742743.2646440002,
          1750037.986053,
          2027959.29062,
          2087015.2919100001,
          1968467.5847939998,
          1928439.4320379999,
          2045228.480968,
          1926083.2359429998,
          1774024.07089,
          2167474.788939,
          1958209.0052939998,
          2200306.795515,
          1956952.017633,
          2003905.3442870001,
          1950513.5994159998,
          2183181.652814,
          2213716.381276,
          2095064.7878969999,
          2090746.093978,
          2140713.510262,
          2395411.1168612,
          2216171.8671985,
          2179657.4605489997,
          2130265.914762,
          2229457.815045,
          1960504.0766730001,
          1608536.5735253,
          1359985.218836,
          1536977.2356830002,
          1904806.076028,
          1616429.911718,
          1599226.082805,
          1648421.148788,
          1839165.575574,
          1656195.5056770002,
          1636032.7062320001,
          1562165.1099120001,
          1654276.846039,
          1918557.153153,
          1688546.264236,
          1687903.801153,
          1809564.734892,
          1995561.2655810001,
          2000796.89048,
          2248890.520865,
          1862366.990977,
          548033.61942
         ]
        },
        {
         "mode": "lines+markers",
         "name": "Cluster 12",
         "type": "scatter",
         "x": [
          1,
          2,
          3,
          4,
          5,
          6,
          7,
          8,
          9,
          10,
          11,
          12,
          13,
          14,
          15,
          16,
          17,
          18,
          19,
          20,
          21,
          22,
          23,
          24,
          25,
          26,
          27,
          28,
          29,
          30,
          31,
          32,
          33,
          34,
          35,
          36,
          37,
          38,
          39,
          40,
          41,
          42,
          43,
          44,
          45,
          46,
          47,
          48,
          49,
          50,
          51,
          52,
          53
         ],
         "y": [
          392176.204105,
          340267.070698,
          348823.455096,
          340989.05999,
          354758.87425,
          340376.3475,
          320616.00587399997,
          328294.55530500005,
          377679.60034,
          374277.75728,
          355493.88498,
          343935.174425,
          398523.71022,
          400590.04978,
          365030.65966999996,
          404894.08632,
          348153.10266900004,
          393360.62606,
          350489.76119,
          367656.43747400003,
          352971.02601,
          400885.69797000004,
          396914.95905999996,
          360638.35101999994,
          374761.01802,
          374437.08602,
          422820.88795,
          379144.52102,
          371804.09700999997,
          366449.93687000003,
          400558.59881,
          345015.48503000004,
          309912.67686999997,
          260083.92605,
          277559.31501,
          343975.09196,
          303572.394956,
          304639.40593999997,
          305594.71906000003,
          349747.69598,
          310391.54701,
          300388.32294,
          281791.675132,
          291081.81908399996,
          330208.90103,
          302887.152084,
          297682.57185,
          309115.831013,
          340755.03899599996,
          315684.19898600003,
          322448.121084,
          293036.69911,
          87624.058
         ]
        },
        {
         "mode": "lines+markers",
         "name": "Cluster 13",
         "type": "scatter",
         "x": [
          1,
          2,
          3,
          4,
          5,
          6,
          7,
          8,
          9,
          10,
          11,
          12,
          13,
          14,
          15,
          16,
          17,
          18,
          19,
          20,
          21,
          22,
          23,
          24,
          25,
          26,
          27,
          28,
          29,
          30,
          31,
          32,
          33,
          34,
          35,
          36,
          37,
          38,
          39,
          40,
          41,
          42,
          43,
          44,
          45,
          46,
          47,
          48,
          49,
          50,
          51,
          52,
          53
         ],
         "y": [
          1589608.225929,
          1466441.586938,
          1435978.746354,
          1414336.298109,
          1403681.5018345,
          1280639.6933029,
          1283325.9825435,
          1272394.033399,
          1404379.3180510001,
          1441472.7371495,
          1437421.7418820001,
          1403895.6077665002,
          1442189.451377,
          1400382.9237415,
          1292002.8988100002,
          1510895.2871929002,
          1413389.999033,
          1593919.7554219998,
          1396013.5537410001,
          1427017.04565,
          1344720.446666,
          1575433.4220450001,
          1613354.2882057999,
          1506604.9398245001,
          1535679.6064985,
          1539656.6034855,
          1698219.0179732,
          1551181.6481445,
          1566072.334311,
          1529917.3243267,
          1558711.7632189998,
          1345781.0171338,
          1176094.61087,
          1036931.247358,
          1088134.318707,
          1315270.416946,
          1194432.7990795001,
          1201483.835873,
          1225132.151151,
          1336294.641034,
          1186397.639163,
          1219371.2285079998,
          1191840.481997,
          1160251.538784,
          1341698.7348252,
          1270211.168069,
          1233327.1079254998,
          1281779.694224,
          1349240.3411745,
          1361239.333821,
          1531307.7071519,
          1337351.8130660001,
          389739.184168
         ]
        },
        {
         "mode": "lines+markers",
         "name": "Cluster 14",
         "type": "scatter",
         "x": [
          1,
          2,
          3,
          4,
          5,
          6,
          7,
          8,
          9,
          10,
          11,
          12,
          13,
          14,
          15,
          16,
          17,
          18,
          19,
          20,
          21,
          22,
          23,
          24,
          25,
          26,
          27,
          28,
          29,
          30,
          31,
          32,
          33,
          34,
          35,
          36,
          37,
          38,
          39,
          40,
          41,
          42,
          43,
          44,
          45,
          46,
          47,
          48,
          49,
          50,
          51,
          52,
          53
         ],
         "y": [
          3995153.004065,
          3239162.4784847,
          3091744.8863859996,
          3017690.67103,
          3162511.956321,
          3008010.0510795,
          2767492.428224,
          2828622.5944245,
          3463356.9682630002,
          3414325.463249,
          3125665.892904,
          3089348.6680079997,
          3370247.107469,
          3355904.3093165,
          2906210.745575,
          3090705.767738,
          2916017.8707155,
          3450068.0927709998,
          2858075.6231585,
          2939021.929029,
          2932822.80872,
          3383085.6528129997,
          3369277.107071,
          2965479.8957620002,
          3037195.835114,
          3160351.1408715,
          3647445.3689564997,
          3155237.3644325,
          3152131.918999,
          3166640.1231380003,
          3424879.318021,
          2903401.504142,
          2410899.209049,
          2123695.374261,
          2435659.5175550003,
          3071820.031574,
          2474815.5585905,
          2473877.584884,
          2598670.1898195,
          3070088.147933,
          2626117.4397275,
          2475860.0808530003,
          2436005.5530963,
          2693799.081257,
          3126888.913337,
          2587873.4074235,
          2610674.4325882,
          2831085.511109,
          3178832.032846,
          3030369.347879,
          3481396.8538988,
          3387565.2994330004,
          917244.9679060001
         ]
        },
        {
         "mode": "lines+markers",
         "name": "Cluster 15",
         "type": "scatter",
         "x": [
          1,
          2,
          3,
          4,
          5,
          6,
          7,
          8,
          9,
          10,
          11,
          12,
          13,
          14,
          15,
          16,
          17,
          18,
          19,
          20,
          21,
          22,
          23,
          24,
          25,
          26,
          27,
          28,
          29,
          30,
          31,
          32,
          33,
          34,
          35,
          36,
          37,
          38,
          39,
          40,
          41,
          42,
          43,
          44,
          45,
          46,
          47,
          48,
          49,
          50,
          51,
          52,
          53
         ],
         "y": [
          1206844.875679,
          1095891.439614,
          1052171.686887,
          1047021.6834260001,
          1119809.3239779999,
          1083112.507573,
          1033350.932614,
          1057031.548562,
          1182104.302939,
          1160273.311301,
          1069622.670431,
          1067491.000275,
          1153883.560308,
          1189584.3468880001,
          1080832.3506860002,
          1140470.278441,
          1060691.874203,
          1179123.085033,
          1101700.945554,
          1077917.231146,
          1021018.590981,
          1203665.936947,
          1216329.035937,
          1087966.318793,
          1088242.26904,
          1087947.333065,
          1257399.789058,
          1118507.590513,
          1080978.764987,
          1117569.438879,
          1230402.4749719999,
          1113534.170126,
          935864.530025,
          813336.298063,
          867144.82992,
          1061175.651998,
          936391.816028,
          903001.532048,
          907524.544874,
          1066899.5869439999,
          960157.1040060001,
          896624.934929,
          859296.433917,
          917310.87321,
          1048950.34397,
          915587.856051,
          909875.23508,
          951218.597963,
          1060761.081875,
          997195.979904,
          1145197.218838,
          1075359.503001,
          285584.74894
         ]
        },
        {
         "mode": "lines+markers",
         "name": "Cluster 16",
         "type": "scatter",
         "x": [
          1,
          2,
          3,
          4,
          5,
          6,
          7,
          8,
          9,
          10,
          11,
          12,
          13,
          14,
          15,
          16,
          17,
          18,
          19,
          20,
          21,
          22,
          23,
          24,
          25,
          26,
          27,
          28,
          29,
          30,
          31,
          32,
          33,
          34,
          35,
          36,
          37,
          38,
          39,
          40,
          41,
          42,
          43,
          44,
          45,
          46,
          47,
          48,
          49,
          50,
          51,
          52,
          53
         ],
         "y": [
          302638.2482145,
          291059.474374,
          281698.9916345,
          281639.2439829,
          280100.953692,
          260006.9253165,
          247629.954201,
          250964.07926049997,
          292353.0051083,
          305200.515595,
          299662.29110170004,
          283779.0254587,
          328023.67446430004,
          314193.83340650005,
          288518.465888,
          359882.532791,
          276667.920002,
          302742.811978,
          279200.8470151,
          289349.3589943,
          269363.5780173,
          312339.9160033,
          313931.0099506,
          280329.69001220004,
          297468.56890139997,
          290606.1587493,
          321667.1379017,
          287882.794997,
          280688.15008449997,
          282075.9228557,
          295770.4939755,
          247300.6070012,
          160906.69497080002,
          146716.4320137,
          149337.1980033,
          211246.4478807,
          185672.0600257,
          187588.8680239,
          181583.43605730002,
          210342.8800663,
          168592.5350067,
          177571.4200063,
          172429.7770073,
          150699.5800133,
          193700.31800199999,
          169754.6409217,
          171296.9650115,
          214663.24296499998,
          282299.3759865,
          282154.0109808,
          284984.409945,
          205483.029992,
          57616.186096
         ]
        },
        {
         "mode": "lines+markers",
         "name": "Cluster 17",
         "type": "scatter",
         "x": [
          1,
          2,
          3,
          4,
          5,
          6,
          7,
          8,
          9,
          10,
          11,
          12,
          13,
          14,
          15,
          16,
          17,
          18,
          19,
          20,
          21,
          22,
          23,
          24,
          25,
          26,
          27,
          28,
          29,
          30,
          31,
          32,
          33,
          34,
          35,
          36,
          37,
          38,
          39,
          40,
          41,
          42,
          43,
          44,
          45,
          46,
          47,
          48,
          49,
          50,
          51,
          52,
          53
         ],
         "y": [
          724288.484269,
          690291.486682,
          682925.307881,
          652772.178931,
          658784.8164669999,
          589073.223066,
          578356.484216,
          572799.440646,
          612079.983872,
          628848.711594,
          634169.7085879999,
          617154.792203,
          634859.217805,
          576854.33681,
          569503.150582,
          666048.95964,
          607767.589251,
          678621.1843910001,
          652004.333678,
          657535.614386,
          615803.092372,
          697961.831096,
          704687.675529,
          698297.822172,
          701890.4001310001,
          703880.781828,
          802747.412186,
          747293.815851,
          732497.706945,
          739024.001189,
          757402.3936699999,
          652298.77712,
          569507.187948,
          502699.17198000004,
          515533.244059,
          572240.829728,
          560585.998324,
          558453.092972,
          524432.351946,
          530192.589085,
          521051.601713,
          567035.335969,
          541298.679048,
          530048.564951,
          604053.3526280001,
          567796.293262,
          565943.303905,
          591823.617189,
          633349.610962,
          674260.284057,
          741626.897966,
          632920.2818700001,
          168112.532995
         ]
        }
       ],
       "layout": {
        "template": {
         "data": {
          "bar": [
           {
            "error_x": {
             "color": "#2a3f5f"
            },
            "error_y": {
             "color": "#2a3f5f"
            },
            "marker": {
             "line": {
              "color": "#E5ECF6",
              "width": 0.5
             },
             "pattern": {
              "fillmode": "overlay",
              "size": 10,
              "solidity": 0.2
             }
            },
            "type": "bar"
           }
          ],
          "barpolar": [
           {
            "marker": {
             "line": {
              "color": "#E5ECF6",
              "width": 0.5
             },
             "pattern": {
              "fillmode": "overlay",
              "size": 10,
              "solidity": 0.2
             }
            },
            "type": "barpolar"
           }
          ],
          "carpet": [
           {
            "aaxis": {
             "endlinecolor": "#2a3f5f",
             "gridcolor": "white",
             "linecolor": "white",
             "minorgridcolor": "white",
             "startlinecolor": "#2a3f5f"
            },
            "baxis": {
             "endlinecolor": "#2a3f5f",
             "gridcolor": "white",
             "linecolor": "white",
             "minorgridcolor": "white",
             "startlinecolor": "#2a3f5f"
            },
            "type": "carpet"
           }
          ],
          "choropleth": [
           {
            "colorbar": {
             "outlinewidth": 0,
             "ticks": ""
            },
            "type": "choropleth"
           }
          ],
          "contour": [
           {
            "colorbar": {
             "outlinewidth": 0,
             "ticks": ""
            },
            "colorscale": [
             [
              0,
              "#0d0887"
             ],
             [
              0.1111111111111111,
              "#46039f"
             ],
             [
              0.2222222222222222,
              "#7201a8"
             ],
             [
              0.3333333333333333,
              "#9c179e"
             ],
             [
              0.4444444444444444,
              "#bd3786"
             ],
             [
              0.5555555555555556,
              "#d8576b"
             ],
             [
              0.6666666666666666,
              "#ed7953"
             ],
             [
              0.7777777777777778,
              "#fb9f3a"
             ],
             [
              0.8888888888888888,
              "#fdca26"
             ],
             [
              1,
              "#f0f921"
             ]
            ],
            "type": "contour"
           }
          ],
          "contourcarpet": [
           {
            "colorbar": {
             "outlinewidth": 0,
             "ticks": ""
            },
            "type": "contourcarpet"
           }
          ],
          "heatmap": [
           {
            "colorbar": {
             "outlinewidth": 0,
             "ticks": ""
            },
            "colorscale": [
             [
              0,
              "#0d0887"
             ],
             [
              0.1111111111111111,
              "#46039f"
             ],
             [
              0.2222222222222222,
              "#7201a8"
             ],
             [
              0.3333333333333333,
              "#9c179e"
             ],
             [
              0.4444444444444444,
              "#bd3786"
             ],
             [
              0.5555555555555556,
              "#d8576b"
             ],
             [
              0.6666666666666666,
              "#ed7953"
             ],
             [
              0.7777777777777778,
              "#fb9f3a"
             ],
             [
              0.8888888888888888,
              "#fdca26"
             ],
             [
              1,
              "#f0f921"
             ]
            ],
            "type": "heatmap"
           }
          ],
          "heatmapgl": [
           {
            "colorbar": {
             "outlinewidth": 0,
             "ticks": ""
            },
            "colorscale": [
             [
              0,
              "#0d0887"
             ],
             [
              0.1111111111111111,
              "#46039f"
             ],
             [
              0.2222222222222222,
              "#7201a8"
             ],
             [
              0.3333333333333333,
              "#9c179e"
             ],
             [
              0.4444444444444444,
              "#bd3786"
             ],
             [
              0.5555555555555556,
              "#d8576b"
             ],
             [
              0.6666666666666666,
              "#ed7953"
             ],
             [
              0.7777777777777778,
              "#fb9f3a"
             ],
             [
              0.8888888888888888,
              "#fdca26"
             ],
             [
              1,
              "#f0f921"
             ]
            ],
            "type": "heatmapgl"
           }
          ],
          "histogram": [
           {
            "marker": {
             "pattern": {
              "fillmode": "overlay",
              "size": 10,
              "solidity": 0.2
             }
            },
            "type": "histogram"
           }
          ],
          "histogram2d": [
           {
            "colorbar": {
             "outlinewidth": 0,
             "ticks": ""
            },
            "colorscale": [
             [
              0,
              "#0d0887"
             ],
             [
              0.1111111111111111,
              "#46039f"
             ],
             [
              0.2222222222222222,
              "#7201a8"
             ],
             [
              0.3333333333333333,
              "#9c179e"
             ],
             [
              0.4444444444444444,
              "#bd3786"
             ],
             [
              0.5555555555555556,
              "#d8576b"
             ],
             [
              0.6666666666666666,
              "#ed7953"
             ],
             [
              0.7777777777777778,
              "#fb9f3a"
             ],
             [
              0.8888888888888888,
              "#fdca26"
             ],
             [
              1,
              "#f0f921"
             ]
            ],
            "type": "histogram2d"
           }
          ],
          "histogram2dcontour": [
           {
            "colorbar": {
             "outlinewidth": 0,
             "ticks": ""
            },
            "colorscale": [
             [
              0,
              "#0d0887"
             ],
             [
              0.1111111111111111,
              "#46039f"
             ],
             [
              0.2222222222222222,
              "#7201a8"
             ],
             [
              0.3333333333333333,
              "#9c179e"
             ],
             [
              0.4444444444444444,
              "#bd3786"
             ],
             [
              0.5555555555555556,
              "#d8576b"
             ],
             [
              0.6666666666666666,
              "#ed7953"
             ],
             [
              0.7777777777777778,
              "#fb9f3a"
             ],
             [
              0.8888888888888888,
              "#fdca26"
             ],
             [
              1,
              "#f0f921"
             ]
            ],
            "type": "histogram2dcontour"
           }
          ],
          "mesh3d": [
           {
            "colorbar": {
             "outlinewidth": 0,
             "ticks": ""
            },
            "type": "mesh3d"
           }
          ],
          "parcoords": [
           {
            "line": {
             "colorbar": {
              "outlinewidth": 0,
              "ticks": ""
             }
            },
            "type": "parcoords"
           }
          ],
          "pie": [
           {
            "automargin": true,
            "type": "pie"
           }
          ],
          "scatter": [
           {
            "fillpattern": {
             "fillmode": "overlay",
             "size": 10,
             "solidity": 0.2
            },
            "type": "scatter"
           }
          ],
          "scatter3d": [
           {
            "line": {
             "colorbar": {
              "outlinewidth": 0,
              "ticks": ""
             }
            },
            "marker": {
             "colorbar": {
              "outlinewidth": 0,
              "ticks": ""
             }
            },
            "type": "scatter3d"
           }
          ],
          "scattercarpet": [
           {
            "marker": {
             "colorbar": {
              "outlinewidth": 0,
              "ticks": ""
             }
            },
            "type": "scattercarpet"
           }
          ],
          "scattergeo": [
           {
            "marker": {
             "colorbar": {
              "outlinewidth": 0,
              "ticks": ""
             }
            },
            "type": "scattergeo"
           }
          ],
          "scattergl": [
           {
            "marker": {
             "colorbar": {
              "outlinewidth": 0,
              "ticks": ""
             }
            },
            "type": "scattergl"
           }
          ],
          "scattermapbox": [
           {
            "marker": {
             "colorbar": {
              "outlinewidth": 0,
              "ticks": ""
             }
            },
            "type": "scattermapbox"
           }
          ],
          "scatterpolar": [
           {
            "marker": {
             "colorbar": {
              "outlinewidth": 0,
              "ticks": ""
             }
            },
            "type": "scatterpolar"
           }
          ],
          "scatterpolargl": [
           {
            "marker": {
             "colorbar": {
              "outlinewidth": 0,
              "ticks": ""
             }
            },
            "type": "scatterpolargl"
           }
          ],
          "scatterternary": [
           {
            "marker": {
             "colorbar": {
              "outlinewidth": 0,
              "ticks": ""
             }
            },
            "type": "scatterternary"
           }
          ],
          "surface": [
           {
            "colorbar": {
             "outlinewidth": 0,
             "ticks": ""
            },
            "colorscale": [
             [
              0,
              "#0d0887"
             ],
             [
              0.1111111111111111,
              "#46039f"
             ],
             [
              0.2222222222222222,
              "#7201a8"
             ],
             [
              0.3333333333333333,
              "#9c179e"
             ],
             [
              0.4444444444444444,
              "#bd3786"
             ],
             [
              0.5555555555555556,
              "#d8576b"
             ],
             [
              0.6666666666666666,
              "#ed7953"
             ],
             [
              0.7777777777777778,
              "#fb9f3a"
             ],
             [
              0.8888888888888888,
              "#fdca26"
             ],
             [
              1,
              "#f0f921"
             ]
            ],
            "type": "surface"
           }
          ],
          "table": [
           {
            "cells": {
             "fill": {
              "color": "#EBF0F8"
             },
             "line": {
              "color": "white"
             }
            },
            "header": {
             "fill": {
              "color": "#C8D4E3"
             },
             "line": {
              "color": "white"
             }
            },
            "type": "table"
           }
          ]
         },
         "layout": {
          "annotationdefaults": {
           "arrowcolor": "#2a3f5f",
           "arrowhead": 0,
           "arrowwidth": 1
          },
          "autotypenumbers": "strict",
          "coloraxis": {
           "colorbar": {
            "outlinewidth": 0,
            "ticks": ""
           }
          },
          "colorscale": {
           "diverging": [
            [
             0,
             "#8e0152"
            ],
            [
             0.1,
             "#c51b7d"
            ],
            [
             0.2,
             "#de77ae"
            ],
            [
             0.3,
             "#f1b6da"
            ],
            [
             0.4,
             "#fde0ef"
            ],
            [
             0.5,
             "#f7f7f7"
            ],
            [
             0.6,
             "#e6f5d0"
            ],
            [
             0.7,
             "#b8e186"
            ],
            [
             0.8,
             "#7fbc41"
            ],
            [
             0.9,
             "#4d9221"
            ],
            [
             1,
             "#276419"
            ]
           ],
           "sequential": [
            [
             0,
             "#0d0887"
            ],
            [
             0.1111111111111111,
             "#46039f"
            ],
            [
             0.2222222222222222,
             "#7201a8"
            ],
            [
             0.3333333333333333,
             "#9c179e"
            ],
            [
             0.4444444444444444,
             "#bd3786"
            ],
            [
             0.5555555555555556,
             "#d8576b"
            ],
            [
             0.6666666666666666,
             "#ed7953"
            ],
            [
             0.7777777777777778,
             "#fb9f3a"
            ],
            [
             0.8888888888888888,
             "#fdca26"
            ],
            [
             1,
             "#f0f921"
            ]
           ],
           "sequentialminus": [
            [
             0,
             "#0d0887"
            ],
            [
             0.1111111111111111,
             "#46039f"
            ],
            [
             0.2222222222222222,
             "#7201a8"
            ],
            [
             0.3333333333333333,
             "#9c179e"
            ],
            [
             0.4444444444444444,
             "#bd3786"
            ],
            [
             0.5555555555555556,
             "#d8576b"
            ],
            [
             0.6666666666666666,
             "#ed7953"
            ],
            [
             0.7777777777777778,
             "#fb9f3a"
            ],
            [
             0.8888888888888888,
             "#fdca26"
            ],
            [
             1,
             "#f0f921"
            ]
           ]
          },
          "colorway": [
           "#636efa",
           "#EF553B",
           "#00cc96",
           "#ab63fa",
           "#FFA15A",
           "#19d3f3",
           "#FF6692",
           "#B6E880",
           "#FF97FF",
           "#FECB52"
          ],
          "font": {
           "color": "#2a3f5f"
          },
          "geo": {
           "bgcolor": "white",
           "lakecolor": "white",
           "landcolor": "#E5ECF6",
           "showlakes": true,
           "showland": true,
           "subunitcolor": "white"
          },
          "hoverlabel": {
           "align": "left"
          },
          "hovermode": "closest",
          "mapbox": {
           "style": "light"
          },
          "paper_bgcolor": "white",
          "plot_bgcolor": "#E5ECF6",
          "polar": {
           "angularaxis": {
            "gridcolor": "white",
            "linecolor": "white",
            "ticks": ""
           },
           "bgcolor": "#E5ECF6",
           "radialaxis": {
            "gridcolor": "white",
            "linecolor": "white",
            "ticks": ""
           }
          },
          "scene": {
           "xaxis": {
            "backgroundcolor": "#E5ECF6",
            "gridcolor": "white",
            "gridwidth": 2,
            "linecolor": "white",
            "showbackground": true,
            "ticks": "",
            "zerolinecolor": "white"
           },
           "yaxis": {
            "backgroundcolor": "#E5ECF6",
            "gridcolor": "white",
            "gridwidth": 2,
            "linecolor": "white",
            "showbackground": true,
            "ticks": "",
            "zerolinecolor": "white"
           },
           "zaxis": {
            "backgroundcolor": "#E5ECF6",
            "gridcolor": "white",
            "gridwidth": 2,
            "linecolor": "white",
            "showbackground": true,
            "ticks": "",
            "zerolinecolor": "white"
           }
          },
          "shapedefaults": {
           "line": {
            "color": "#2a3f5f"
           }
          },
          "ternary": {
           "aaxis": {
            "gridcolor": "white",
            "linecolor": "white",
            "ticks": ""
           },
           "baxis": {
            "gridcolor": "white",
            "linecolor": "white",
            "ticks": ""
           },
           "bgcolor": "#E5ECF6",
           "caxis": {
            "gridcolor": "white",
            "linecolor": "white",
            "ticks": ""
           }
          },
          "title": {
           "x": 0.05
          },
          "xaxis": {
           "automargin": true,
           "gridcolor": "white",
           "linecolor": "white",
           "ticks": "",
           "title": {
            "standoff": 15
           },
           "zerolinecolor": "white",
           "zerolinewidth": 2
          },
          "yaxis": {
           "automargin": true,
           "gridcolor": "white",
           "linecolor": "white",
           "ticks": "",
           "title": {
            "standoff": 15
           },
           "zerolinecolor": "white",
           "zerolinewidth": 2
          }
         }
        },
        "title": {
         "text": "Sales by Week for All Clusters"
        },
        "xaxis": {
         "title": {
          "text": "Week"
         }
        },
        "yaxis": {
         "title": {
          "text": "Sales"
         }
        }
       }
      }
     },
     "metadata": {},
     "output_type": "display_data"
    }
   ],
   "source": [
    "fig = go.Figure()\n",
    "\n",
    "clusters = weekly_sales['cluster'].unique()\n",
    "\n",
    "for cluster in clusters:\n",
    "    cluster_data = weekly_sales[weekly_sales['cluster'] == cluster]\n",
    "    fig.add_trace(go.Scatter(x=cluster_data['week'], \n",
    "                             y=cluster_data['sales'], \n",
    "                             mode='lines+markers', \n",
    "                             name=f'Cluster {cluster}'))\n",
    "    \n",
    "fig.update_layout(title='Sales by Week for All Clusters',\n",
    "                  xaxis_title='Week',\n",
    "                  yaxis_title='Sales')\n",
    "\n",
    "fig.show()\n"
   ]
  }
 ],
 "metadata": {
  "kernelspec": {
   "display_name": ".test",
   "language": "python",
   "name": "python3"
  },
  "language_info": {
   "codemirror_mode": {
    "name": "ipython",
    "version": 3
   },
   "file_extension": ".py",
   "mimetype": "text/x-python",
   "name": "python",
   "nbconvert_exporter": "python",
   "pygments_lexer": "ipython3",
   "version": "3.10.12"
  }
 },
 "nbformat": 4,
 "nbformat_minor": 2
}
