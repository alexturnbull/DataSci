{
 "cells": [
  {
   "cell_type": "code",
   "execution_count": 2,
   "metadata": {},
   "outputs": [
    {
     "name": "stderr",
     "output_type": "stream",
     "text": [
      "/home/alex/Projects/DataSci/.test/lib/python3.10/site-packages/tpot/builtins/__init__.py:36: UserWarning: Warning: optional dependency `torch` is not available. - skipping import of NN models.\n",
      "  warnings.warn(\"Warning: optional dependency `torch` is not available. - skipping import of NN models.\")\n"
     ]
    }
   ],
   "source": [
    "from tpot import TPOTRegressor\n",
    "from sklearn.datasets import load_diabetes\n",
    "from sklearn.model_selection import train_test_split"
   ]
  },
  {
   "cell_type": "code",
   "execution_count": 3,
   "metadata": {},
   "outputs": [],
   "source": [
    "diabetes = load_diabetes()"
   ]
  },
  {
   "cell_type": "code",
   "execution_count": 4,
   "metadata": {},
   "outputs": [
    {
     "name": "stdout",
     "output_type": "stream",
     "text": [
      "[[ 0.03807591  0.05068012  0.06169621 ... -0.00259226  0.01990749\n",
      "  -0.01764613]\n",
      " [-0.00188202 -0.04464164 -0.05147406 ... -0.03949338 -0.06833155\n",
      "  -0.09220405]\n",
      " [ 0.08529891  0.05068012  0.04445121 ... -0.00259226  0.00286131\n",
      "  -0.02593034]\n",
      " ...\n",
      " [ 0.04170844  0.05068012 -0.01590626 ... -0.01107952 -0.04688253\n",
      "   0.01549073]\n",
      " [-0.04547248 -0.04464164  0.03906215 ...  0.02655962  0.04452873\n",
      "  -0.02593034]\n",
      " [-0.04547248 -0.04464164 -0.0730303  ... -0.03949338 -0.00422151\n",
      "   0.00306441]]\n"
     ]
    }
   ],
   "source": [
    "# show the data\n",
    "print(diabetes.data)"
   ]
  },
  {
   "cell_type": "code",
   "execution_count": 5,
   "metadata": {},
   "outputs": [
    {
     "data": {
      "text/plain": [
       "sklearn.utils._bunch.Bunch"
      ]
     },
     "execution_count": 5,
     "metadata": {},
     "output_type": "execute_result"
    }
   ],
   "source": [
    "type(diabetes)"
   ]
  },
  {
   "cell_type": "code",
   "execution_count": 6,
   "metadata": {},
   "outputs": [],
   "source": [
    "X_train, X_test, y_train, y_test = train_test_split(diabetes.data, diabetes.target,\n",
    "                                                    train_size=0.75, test_size=0.25, random_state=42)\n"
   ]
  },
  {
   "cell_type": "code",
   "execution_count": 11,
   "metadata": {},
   "outputs": [
    {
     "name": "stdout",
     "output_type": "stream",
     "text": [
      "[[-0.00551455 -0.04464164  0.04229559 ... -0.03949338  0.05227699\n",
      "   0.02791705]\n",
      " [ 0.06350368 -0.04464164 -0.05039625 ...  0.02360753  0.05803805\n",
      "   0.04034337]\n",
      " [ 0.0090156  -0.04464164  0.05522933 ...  0.02323852  0.05568623\n",
      "   0.10661708]\n",
      " ...\n",
      " [ 0.03081083 -0.04464164 -0.02021751 ... -0.03949338 -0.01090325\n",
      "  -0.0010777 ]\n",
      " [-0.01277963 -0.04464164 -0.02345095 ... -0.00259226 -0.03845972\n",
      "  -0.03835666]\n",
      " [-0.09269548 -0.04464164  0.02828403 ... -0.03949338 -0.00514219\n",
      "  -0.0010777 ]]\n"
     ]
    }
   ],
   "source": [
    "print(X_train)"
   ]
  },
  {
   "cell_type": "code",
   "execution_count": 7,
   "metadata": {},
   "outputs": [
    {
     "name": "stdout",
     "output_type": "stream",
     "text": [
      "                                                                             \n",
      "Generation 1 - Current best internal CV score: -3142.696317303139\n",
      "                                                                              \n",
      "Generation 2 - Current best internal CV score: -3142.696317303139\n",
      "                                                                              \n",
      "Generation 3 - Current best internal CV score: -3142.696317303139\n",
      "                                                                              \n",
      "Generation 4 - Current best internal CV score: -3141.4705482767117\n",
      "                                                                              \n",
      "Generation 5 - Current best internal CV score: -3138.1858903199054\n",
      "                                                                              \n",
      "Generation 6 - Current best internal CV score: -3128.8499019605697\n",
      "                                                                              \n",
      "Generation 7 - Current best internal CV score: -3128.8499019605697\n",
      "                                                                              \n",
      "Generation 8 - Current best internal CV score: -3128.8499019605697\n",
      "                                                                              \n",
      "Generation 9 - Current best internal CV score: -3128.8499019605697\n",
      "                                                                              \n",
      "Generation 10 - Current best internal CV score: -3128.8499019605697\n",
      "                                                                              \n",
      "Best pipeline: ExtraTreesRegressor(RidgeCV(input_matrix), bootstrap=False, max_features=0.6000000000000001, min_samples_leaf=6, min_samples_split=10, n_estimators=100)\n",
      "-2552.3937799587725\n"
     ]
    }
   ],
   "source": [
    "tpot = TPOTRegressor(generations=10, population_size=50, verbosity=2, random_state=42, scoring='neg_mean_squared_error', use_dask=True)\n",
    "tpot.fit(X_train, y_train)\n",
    "print(tpot.score(X_test, y_test))\n",
    "tpot.export('tpot_daibetes_pipeline.py')"
   ]
  },
  {
   "cell_type": "code",
   "execution_count": 8,
   "metadata": {},
   "outputs": [
    {
     "name": "stdout",
     "output_type": "stream",
     "text": [
      "[155.095908   163.28628052 145.11976291 248.94691098 123.97672499\n",
      " 107.9817516  257.14144623 186.34650016  96.57412576 120.47676747\n",
      " 104.07449094 157.97484607  94.16702478 211.95458289  90.04303677\n",
      " 118.57043701 225.85966063 262.57073311 184.42369561 216.27645814\n",
      " 189.82012684 110.48030973  87.17724662 199.05898571 145.22256846\n",
      " 159.80544084 192.93888567 177.35669243  85.70999257 106.37232894\n",
      " 173.80642247 109.57415841 138.68558171 186.73783675 165.49507576\n",
      " 201.55693657 112.53567889 122.25142131 163.66602719  86.02702527\n",
      "  89.95209503 103.48028613 165.1771798  156.99891772 166.23454863\n",
      "  90.48276034  92.60374137 105.6901309   87.24490373 158.05311783\n",
      " 134.7823596   89.67469395 129.59713328 109.3116372  174.81305406\n",
      " 141.18741018 106.85699151 210.54634976 114.39822367  85.43278138\n",
      " 168.57694835 188.60783384 131.0290466  100.45899724 137.01701559\n",
      " 208.25428934 172.2250714  177.62095329 130.26567298 138.96354836\n",
      " 164.53967243 198.19199769 229.10871918 134.88425654  89.16494413\n",
      " 172.18550611 194.82670717 188.53665811 172.05796433 194.67838749\n",
      " 116.67407578 135.70209799  82.66660984  87.96346118 106.78198299\n",
      "  89.70398168  91.962587    84.03373106 152.10336544 189.51069503\n",
      " 145.93953079 229.84403564 102.37158847  83.46554713  85.17945497\n",
      " 191.71247691 255.62640411 160.38823277 103.84536776  82.64516058\n",
      " 202.93540292 111.40539242 266.02930026  89.66587632 162.4471774\n",
      " 107.24664887 118.47987717 119.68305258 170.38198883 177.14974406\n",
      " 121.52777154]\n"
     ]
    }
   ],
   "source": [
    "#make predictions \n",
    "predictions = tpot.predict(X_test)\n",
    "print(predictions)"
   ]
  },
  {
   "cell_type": "code",
   "execution_count": 9,
   "metadata": {},
   "outputs": [
    {
     "name": "stdout",
     "output_type": "stream",
     "text": [
      "[219.  70. 202. 230. 111.  84. 242. 272.  94.  96.  94. 252.  99. 297.\n",
      " 135.  67. 295. 264. 170. 275. 310.  64. 128. 232. 129. 118. 263.  77.\n",
      "  48. 107. 140. 113.  90. 164. 180. 233.  42.  84. 172.  63.  48. 108.\n",
      " 156. 168.  90.  52. 200.  87.  90. 258. 136. 158.  69.  72. 171.  95.\n",
      "  72. 151. 168.  60. 122.  52. 187. 102. 214. 248. 181. 110. 140. 202.\n",
      " 101. 222. 281.  61.  89.  91. 186. 220. 237. 233.  68. 190.  96.  72.\n",
      " 153.  98.  37.  63. 184. 144. 150. 280. 125.  59.  65. 281. 277. 167.\n",
      "  90.  72. 178.  88. 270. 101. 197.  97.  53.  71. 262.  52. 102.]\n"
     ]
    }
   ],
   "source": [
    "print(y_test)"
   ]
  },
  {
   "cell_type": "code",
   "execution_count": 10,
   "metadata": {},
   "outputs": [
    {
     "name": "stdout",
     "output_type": "stream",
     "text": [
      "[142.20372251 181.84512724 137.82780878 292.1246277  124.88238995]\n",
      "[219.  70. 202. 230. 111.]\n"
     ]
    }
   ],
   "source": [
    "#print predictions againsr actual values\n",
    "print(predictions[:5])\n",
    "print(y_test[:5])"
   ]
  }
 ],
 "metadata": {
  "kernelspec": {
   "display_name": ".DataSci",
   "language": "python",
   "name": "python3"
  },
  "language_info": {
   "codemirror_mode": {
    "name": "ipython",
    "version": 3
   },
   "file_extension": ".py",
   "mimetype": "text/x-python",
   "name": "python",
   "nbconvert_exporter": "python",
   "pygments_lexer": "ipython3",
   "version": "3.10.12"
  }
 },
 "nbformat": 4,
 "nbformat_minor": 2
}
