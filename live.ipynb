{
 "cells": [
  {
   "cell_type": "code",
   "execution_count": 2,
   "metadata": {},
   "outputs": [],
   "source": [
    "import numpy as np"
   ]
  },
  {
   "cell_type": "code",
   "execution_count": 3,
   "metadata": {},
   "outputs": [],
   "source": [
    "arr = np.array([[0, 439.00],\n",
    "                [2, 439.12],\n",
    "                [4, 439.21],\n",
    "                [6, 439.31],\n",
    "                [8, 439.40],\n",
    "                [10, 439.50]])"
   ]
  },
  {
   "cell_type": "code",
   "execution_count": 24,
   "metadata": {},
   "outputs": [],
   "source": [
    "def find_mean(arr, col_indices):\n",
    "        mean_cols = np.mean(arr[:,col_indices], axis=0)\n",
    "        return mean_cols\n",
    "\n",
    "def find_regression_line(arr):\n",
    "    n = len(arr)\n",
    "    column_x = arr[:, 0]\n",
    "    column_y = arr[:, 1]\n",
    "    x_mean = np.mean(column_x, axis=0)\n",
    "    y_mean = np.mean(column_y, axis=0)\n",
    "    sx =  np.std(column_x, axis=0)\n",
    "    sy = np.std(column_y, axis=0)\n",
    "    x_sd = (column_x - x_mean) / sx\n",
    "    y_sd = (column_y- y_mean) / sy\n",
    "    r = 1/n*sum(x_sd * y_sd)\n",
    "    a = r*(sy/sx)\n",
    "    b = y_mean - a*x_mean\n",
    "    return a, b\n",
    "\n",
    "def MSE(results):\n",
    "      es = []\n",
    "      for i in results:\n",
    "            e = (i[1] - i[2])**2\n",
    "            es.append(e)\n",
    "      mse = sum(es)\n",
    "      return(mse)\n",
    "\n",
    "\n",
    "    "
   ]
  },
  {
   "cell_type": "code",
   "execution_count": 14,
   "metadata": {},
   "outputs": [
    {
     "name": "stdout",
     "output_type": "stream",
     "text": [
      "5.0 439.25666666666666\n"
     ]
    }
   ],
   "source": [
    "x_mean = find_mean(arr, 0)\n",
    "y_mean = find_mean(arr, 1)\n",
    "print(x_mean, y_mean)"
   ]
  },
  {
   "cell_type": "code",
   "execution_count": 19,
   "metadata": {},
   "outputs": [
    {
     "name": "stdout",
     "output_type": "stream",
     "text": [
      "[439.0109523809524, 439.10923809523814, 439.2075238095238, 439.30580952380956, 439.40409523809524, 439.502380952381]\n"
     ]
    }
   ],
   "source": [
    "a, b = find_regression_line(arr)\n",
    "y_pre = []\n",
    "for i in arr:\n",
    "    y = a*i[0] + b\n",
    "    y_pre.append(y)\n",
    "\n",
    "print(y_pre)\n",
    "prediction = np.array(y_pre)\n",
    "results = np.insert(arr, 2, prediction, axis=1)"
   ]
  },
  {
   "cell_type": "code",
   "execution_count": 26,
   "metadata": {},
   "outputs": [],
   "source": [
    "mse = MSE(results)"
   ]
  },
  {
   "cell_type": "code",
   "execution_count": 27,
   "metadata": {},
   "outputs": [
    {
     "name": "stdout",
     "output_type": "stream",
     "text": [
      "0.00028190476190424914\n"
     ]
    }
   ],
   "source": [
    "print(mse)"
   ]
  }
 ],
 "metadata": {
  "kernelspec": {
   "display_name": ".DataSci",
   "language": "python",
   "name": "python3"
  },
  "language_info": {
   "codemirror_mode": {
    "name": "ipython",
    "version": 3
   },
   "file_extension": ".py",
   "mimetype": "text/x-python",
   "name": "python",
   "nbconvert_exporter": "python",
   "pygments_lexer": "ipython3",
   "version": "3.10.12"
  }
 },
 "nbformat": 4,
 "nbformat_minor": 2
}
